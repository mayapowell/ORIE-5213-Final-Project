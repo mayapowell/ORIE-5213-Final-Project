{
 "cells": [
  {
   "cell_type": "markdown",
   "metadata": {
    "id": "aUMLGL0wvNnN"
   },
   "source": [
    "\n",
    "\n",
    "# Loading the Data\n",
    "\n"
   ]
  },
  {
   "cell_type": "code",
   "execution_count": 1,
   "metadata": {
    "colab": {
     "base_uri": "https://localhost:8080/"
    },
    "id": "wysCL2dar6F1",
    "outputId": "72d3f333-12c5-4e62-f609-8399df6bc072"
   },
   "outputs": [],
   "source": [
    "import pickle\n",
    "\n",
    "# Define the path to your data file in Google Drive\n",
    "file_path_cap = 'cap.pck'\n",
    "file_path_pref = 'pref.pck'\n",
    "\n",
    "\n",
    "# Load capacity dictionary\n",
    "with open(file_path_cap, \"rb\") as f:\n",
    "    cap = pickle.load(f)\n",
    "\n",
    "# Load preference/priority dictionary\n",
    "with open(file_path_pref, \"rb\") as f:\n",
    "    pref = pickle.load(f)"
   ]
  },
  {
   "cell_type": "code",
   "execution_count": 2,
   "metadata": {
    "colab": {
     "base_uri": "https://localhost:8080/"
    },
    "id": "PZFPWDX9tnkG",
    "outputId": "00e88734-f11f-464b-89a6-6c6c902ce8f0"
   },
   "outputs": [
    {
     "name": "stdout",
     "output_type": "stream",
     "text": [
      "Number of schools: 100\n",
      "Sample school IDs: ['8412_401000000133_REG', '8412_401000000133_PRI', '8413_401000000133_REG', '8413_401000000133_PRI', '8415_401000000133_REG', '8415_401000000133_PRI', '8417_401000000133_REG', '8417_401000000133_PIE', '8417_401000000133_PRI', '8420_401000000131_REG', '8420_401000000131_PRI', '8421_401000000133_REG', '8421_401000000133_PRI', '8422_401000000112_REG', '8422_401000000112_PRI', '8433_401000000131_REG', '8433_401000000131_PRI', '8433_401000000132_REG', '8433_401000000132_PRI', '8434_401000000133_REG', '8434_401000000133_PRI', '8435_401000000133_REG', '8435_401000000133_PRI', '8436_401000000133_REG', '8436_401000000133_PRI', '8437_401000000133_REG', '8437_401000000133_PIE', '8437_401000000133_PRI', '8438_401000000133_REG', '8438_401000000133_PRI', '8439_401000000131_REG', '8439_401000000131_PRI', '8439_401000000132_REG', '8439_401000000132_PRI', '8441_401000000133_REG', '8441_401000000133_PRI', '8442_401000000133_REG', '8442_401000000133_PRI', '8448_401000000133_REG', '8448_401000000133_PRI', '8449_401000000133_REG', '8449_401000000133_PRI', '8450_401000000133_REG', '8450_401000000133_PRI', '8452_401000000131_REG', '8452_401000000131_PRI', '8454_401000000222_REG', '8454_401000000222_PRI', '8457_401000000111_REG', '8457_401000000111_PRI', '8458_401000000132_REG', '8458_401000000132_PRI', '8467_401000000133_REG', '8467_401000000133_PRI', '8470_401000000133_REG', '8470_401000000133_PRI', '8475_401000000132_REG', '8475_401000000132_PRI', '8479_401000000133_REG', '8479_401000000133_PRI', '8482_401000000133_REG', '8482_401000000133_PRI', '8483_401000000132_REG', '8483_401000000132_PRI', '11678_401000000132_REG', '11678_401000000132_PRI', '11680_401000000133_REG', '11680_401000000133_PRI', '11687_401000000133_REG', '11687_401000000133_PRI', '16895_401000000131_REG', '16895_401000000131_PRI', '24302_401000000131_REG', '24302_401000000131_PRI', '24302_401000000132_REG', '24302_401000000132_PRI', '24305_401000000332_REG', '24305_401000000332_PRI', '24307_401000000232_REG', '24307_401000000232_PRI', '24311_401000000232_REG', '24311_401000000232_PRI', '24313_401000000131_REG', '24313_401000000131_PRI', '24313_401000000132_REG', '24313_401000000132_PRI', '24317_401000000133_REG', '24317_401000000133_PRI', '24318_401000000132_REG', '24318_401000000132_PRI', '24327_401000000133_REG', '24327_401000000133_PRI', '24329_401000000121_REG', '24329_401000000121_PRI', '24329_401000000122_REG', '24329_401000000122_PRI', '24338_401000000131_REG', '24338_401000000131_PRI', '24338_401000000132_REG', '24338_401000000132_PRI']\n",
      "Number of students: 1395\n",
      "Sample student IDs: ['5b863013093da070f20a7a69', '5b86301b093da070f20a9be2', '5b86307a093da070f20c4a75', '5b8630ae093da070f20d433a', '5b8630b4093da070f20d6006']\n"
     ]
    }
   ],
   "source": [
    "# School IDs directly from cap\n",
    "school_ids = list(cap.keys())\n",
    "\n",
    "# Student IDs are in pref but not in cap\n",
    "student_ids = [k for k in pref.keys() if k not in cap]\n",
    "\n",
    "print(f\"Number of schools: {len(school_ids)}\")\n",
    "print(f\"Sample school IDs: {school_ids}\")\n",
    "\n",
    "print(f\"Number of students: {len(student_ids)}\")\n",
    "print(f\"Sample student IDs: {student_ids[:5]}\")"
   ]
  },
  {
   "cell_type": "markdown",
   "metadata": {
    "id": "SYJmQcg4vFPC"
   },
   "source": [
    "# Combining Regular and Priority Schools\n"
   ]
  },
  {
   "cell_type": "code",
   "execution_count": 3,
   "metadata": {
    "id": "_ds5vrjwuLMG"
   },
   "outputs": [],
   "source": [
    "from collections import defaultdict"
   ]
  },
  {
   "cell_type": "code",
   "execution_count": 4,
   "metadata": {
    "id": "ZOcIJoydvB6n"
   },
   "outputs": [],
   "source": [
    "merged_cap = {}\n",
    "merged_pref = {}\n",
    "\n",
    "# Identify base school IDs\n",
    "base_school_ids = set()\n",
    "for sid in cap.keys():\n",
    "    if sid.endswith(\"_REG\") or sid.endswith(\"_PRI\"):\n",
    "        base_id = sid.rsplit(\"_\", 1)[0]\n",
    "        base_school_ids.add(base_id)"
   ]
  },
  {
   "cell_type": "code",
   "execution_count": 5,
   "metadata": {
    "id": "YJBpSrXBvcyP"
   },
   "outputs": [],
   "source": [
    "# Merge REG and PRI schools\n",
    "for base_id in base_school_ids:\n",
    "    reg_id = base_id + \"_REG\"\n",
    "    pri_id = base_id + \"_PRI\"\n",
    "\n",
    "    # Capacity merge\n",
    "    cap_reg = cap.get(reg_id, 0)\n",
    "    cap_pri = cap.get(pri_id, 0)\n",
    "    merged_cap[base_id] = cap_reg + cap_pri\n",
    "\n",
    "    # Get priority lists from dicts sorted by rank (key)\n",
    "    pri_list = [v for k, v in sorted(pref.get(pri_id, {}).items())]\n",
    "    reg_list = [v for k, v in sorted(pref.get(reg_id, {}).items())]\n",
    "\n",
    "    # Merge without duplicates\n",
    "    seen = set()\n",
    "    combined_priority = []\n",
    "    for student in pri_list + reg_list:\n",
    "        if student not in seen:\n",
    "            seen.add(student)\n",
    "            combined_priority.append(student)\n",
    "\n",
    "    merged_pref[base_id] = combined_priority"
   ]
  },
  {
   "cell_type": "code",
   "execution_count": 6,
   "metadata": {
    "id": "cEKOXAJhvx-3"
   },
   "outputs": [],
   "source": [
    "# Add unchanged student preferences\n",
    "for sid in pref:\n",
    "    if sid not in cap:  # these are student IDs\n",
    "        merged_pref[sid] = pref[sid]"
   ]
  },
  {
   "cell_type": "code",
   "execution_count": 7,
   "metadata": {
    "colab": {
     "base_uri": "https://localhost:8080/"
    },
    "id": "V-18kwbTwR03",
    "outputId": "ab03f330-e4af-4f94-8878-869400387473"
   },
   "outputs": [
    {
     "name": "stdout",
     "output_type": "stream",
     "text": [
      "Merged school count: 49\n",
      "Sample school ID: 11687_401000000133\n",
      "Capacity: 26\n",
      "Top 5 priorities: ['5b86316c093da070f210b297', '5b863166093da070f2109788', '5b863190093da070f2115d9e', '5b8630fa093da070f20ea4d8', '5b863107093da070f20ee113']\n"
     ]
    }
   ],
   "source": [
    "print(f\"Merged school count: {len(merged_cap)}\")\n",
    "sample_id = list(merged_cap.keys())[0]\n",
    "print(f\"Sample school ID: {sample_id}\")\n",
    "print(f\"Capacity: {merged_cap[sample_id]}\")\n",
    "print(f\"Top 5 priorities: {merged_pref[sample_id][:5]}\")"
   ]
  },
  {
   "cell_type": "code",
   "execution_count": 8,
   "metadata": {
    "id": "7C1Yk3F92Vbr"
   },
   "outputs": [],
   "source": [
    "import numpy as np\n",
    "import pandas as pd\n",
    "\n",
    "# 1. Number of students\n",
    "num_students = len([k for k in pref if k not in cap])\n",
    "\n",
    "# 2. Number of schools\n",
    "num_schools = len(merged_cap)\n",
    "\n",
    "# 3. Average number of schools ranked per student\n",
    "student_prefs = {k: v for k, v in pref.items() if k not in cap}\n",
    "avg_schools_ranked = np.mean([len(v) for v in student_prefs.values()])\n",
    "\n",
    "# 4. School capacity stats\n",
    "school_capacities = list(merged_cap.values())\n",
    "min_capacity = min(school_capacities)\n",
    "max_capacity = max(school_capacities)\n",
    "total_capacity = sum(school_capacities)\n",
    "\n",
    "# 5. Table summary as a DataFrame\n",
    "summary_df = pd.DataFrame({\n",
    "    \"Statistic\": [\n",
    "        \"Number of students\",\n",
    "        \"Number of schools\",\n",
    "        \"Average number of schools ranked per student\",\n",
    "        \"Minimum school capacity\",\n",
    "        \"Maximum school capacity\",\n",
    "        \"Total original capacity (all schools)\",\n",
    "        \"PIE students included\",\n",
    "        \"School preference list merge rule\"\n",
    "    ],\n",
    "    \"Value\": [\n",
    "        num_students,\n",
    "        num_schools,\n",
    "        round(avg_schools_ranked, 2),\n",
    "        min_capacity,\n",
    "        max_capacity,\n",
    "        total_capacity,\n",
    "        \"No (excluded)\",\n",
    "        \"Priority ranked above Regular\"\n",
    "    ]\n",
    "})"
   ]
  },
  {
   "cell_type": "code",
   "execution_count": 9,
   "metadata": {},
   "outputs": [
    {
     "name": "stdout",
     "output_type": "stream",
     "text": [
      "                                      Statistic                          Value\n",
      "0                            Number of students                           1395\n",
      "1                             Number of schools                             49\n",
      "2  Average number of schools ranked per student                           6.47\n",
      "3                       Minimum school capacity                              3\n",
      "4                       Maximum school capacity                             80\n",
      "5         Total original capacity (all schools)                           1620\n",
      "6                         PIE students included                  No (excluded)\n",
      "7             School preference list merge rule  Priority ranked above Regular\n"
     ]
    }
   ],
   "source": [
    "print(summary_df)"
   ]
  },
  {
   "cell_type": "code",
   "execution_count": 44,
   "metadata": {},
   "outputs": [
    {
     "name": "stdout",
     "output_type": "stream",
     "text": [
      "Feasible (student, school) pairs: 4493\n"
     ]
    }
   ],
   "source": [
    "import gurobipy as gp\n",
    "from gurobipy import GRB\n",
    "\n",
    "# Utility: remove seat-level suffix (e.g., \"_REG\", \"_PRI\", \"_PIE\")\n",
    "def normalize_school_id(raw_id):\n",
    "    return raw_id.rsplit('_', 1)[0]\n",
    "\n",
    "# Utility: remove duplicates from a list while preserving order\n",
    "def dedup(seq):\n",
    "    seen = set()\n",
    "    return [x for x in seq if not (x in seen or seen.add(x))]\n",
    "\n",
    "# Step 1: Build ordered and normalized student preferences\n",
    "ordered_student_prefs = {}\n",
    "for s, p in student_prefs.items():\n",
    "    if isinstance(p, dict):\n",
    "        ordered_raw = [v for _, v in sorted(p.items())]\n",
    "    elif isinstance(p, list):\n",
    "        ordered_raw = p\n",
    "    else:\n",
    "        continue\n",
    "\n",
    "    normalized = [normalize_school_id(school_id) for school_id in ordered_raw]\n",
    "    ordered_student_prefs[s] = dedup(normalized)\n",
    "\n",
    "# Step 2: Build ordered school preferences (already merged)\n",
    "ordered_school_prefs = {}\n",
    "for c, p in merged_pref.items():\n",
    "    if isinstance(p, dict):\n",
    "        ordered_school_prefs[c] = [v for _, v in sorted(p.items())]\n",
    "    else:\n",
    "        ordered_school_prefs[c] = p\n",
    "\n",
    "# Step 3: Define feasible student-school pairs (F)\n",
    "# Allow: any school that student ranked, and exists in capacity list\n",
    "C = list(merged_cap.keys())\n",
    "S = list(ordered_student_prefs.keys())\n",
    "\n",
    "F = [(s, c) for s in S for c in ordered_student_prefs[s] if c in C]\n",
    "print(f\"Feasible (student, school) pairs: {len(F)}\")\n",
    "\n",
    "# Recompute utility weights: normalized linearly from student preference rank\n",
    "u = {}\n",
    "for s, prefs in ordered_student_prefs.items():\n",
    "    L = len(prefs)\n",
    "    for rank, c in enumerate(prefs):\n",
    "        u[(s, c)] = 1 - (rank / L)  # Top choice gets 1, last gets 1/L\n",
    "# Capacities and budget\n",
    "q = merged_cap\n",
    "B = 100  # example budget\n"
   ]
  },
  {
   "cell_type": "code",
   "execution_count": 45,
   "metadata": {},
   "outputs": [],
   "source": [
    "m = gp.Model(\"QuadraticStableMatching\")\n",
    "\n",
    "# Decision variables\n",
    "x = m.addVars(F, vtype=GRB.BINARY, name=\"x\")\n",
    "t = m.addVars(C, vtype=GRB.INTEGER, lb=0, name=\"t\")\n",
    "\n",
    "# Objective: Maximize total utility\n",
    "m.setObjective(gp.quicksum(u[s, c] * x[s, c] for (s, c) in F), GRB.MAXIMIZE)\n",
    "\n",
    "# Constraints\n",
    "for s in S:\n",
    "    m.addConstr(gp.quicksum(x[s, c] for c in C if (s, c) in F) <= 1)\n",
    "\n",
    "for c in C:\n",
    "    m.addConstr(gp.quicksum(x[s, c] for s in S if (s, c) in F) <= q[c] + t[c])\n",
    "\n",
    "m.addConstr(gp.quicksum(t[c] for c in C) <= B)\n",
    "\n",
    "# Quadratic Stability Constraints\n",
    "for s, c in F:\n",
    "    if c not in ordered_student_prefs[s]: continue  # skip infeasible match\n",
    "    \n",
    "    student_rank = ordered_student_prefs[s].index(c)\n",
    "    better_schools = ordered_student_prefs[s][:student_rank]\n",
    "\n",
    "    if c not in ordered_school_prefs: continue\n",
    "    if s not in ordered_school_prefs[c]: continue\n",
    "\n",
    "    school_rank = ordered_school_prefs[c].index(s)\n",
    "    better_students = ordered_school_prefs[c][:school_rank]\n",
    "\n",
    "    m.addQConstr(\n",
    "        (q[c] + t[c]) * x[s, c] +\n",
    "        (q[c] + t[c]) * gp.quicksum(x[s, c2] for c2 in better_schools if (s, c2) in F) +\n",
    "        gp.quicksum(x[s2, c] for s2 in better_students if (s2, c) in F) >= 1\n",
    "    )\n"
   ]
  },
  {
   "cell_type": "code",
   "execution_count": 46,
   "metadata": {},
   "outputs": [
    {
     "name": "stdout",
     "output_type": "stream",
     "text": [
      "Gurobi Optimizer version 11.0.0 build v11.0.0rc2 (win64 - Windows 11+.0 (26100.2))\n",
      "\n",
      "CPU model: Intel(R) Core(TM) i7-8565U CPU @ 1.80GHz, instruction set [SSE2|AVX|AVX2]\n",
      "Thread count: 4 physical cores, 8 logical processors, using up to 8 threads\n",
      "\n",
      "Optimize a model with 1445 rows, 4542 columns and 9084 nonzeros\n",
      "Model fingerprint: 0x5ec3a540\n",
      "Model has 4493 quadratic constraints\n",
      "Variable types: 0 continuous, 4542 integer (4493 binary)\n",
      "Coefficient statistics:\n",
      "  Matrix range     [1e+00, 1e+00]\n",
      "  QMatrix range    [1e+00, 1e+00]\n",
      "  QLMatrix range   [1e+00, 8e+01]\n",
      "  Objective range  [6e-02, 1e+00]\n",
      "  Bounds range     [1e+00, 1e+00]\n",
      "  RHS range        [1e+00, 1e+02]\n",
      "  QRHS range       [1e+00, 1e+00]\n",
      "Presolve removed 106 rows and 231 columns\n",
      "Presolve time: 0.12s\n",
      "Presolved: 7189 rows, 6866 columns, 66541 nonzeros\n",
      "Variable types: 0 continuous, 6866 integer (4272 binary)\n",
      "Found heuristic solution: objective 1114.8662990\n",
      "\n",
      "Root relaxation: objective 1.256817e+03, 371 iterations, 0.01 seconds (0.01 work units)\n",
      "\n",
      "    Nodes    |    Current Node    |     Objective Bounds      |     Work\n",
      " Expl Unexpl |  Obj  Depth IntInf | Incumbent    BestBd   Gap | It/Node Time\n",
      "\n",
      "*    0     0               0    1256.8170760 1256.81708  0.00%     -    0s\n",
      "\n",
      "Explored 1 nodes (371 simplex iterations) in 0.35 seconds (0.22 work units)\n",
      "Thread count was 8 (of 8 available processors)\n",
      "\n",
      "Solution count 2: 1256.82 1114.87 \n",
      "\n",
      "Optimal solution found (tolerance 1.00e-04)\n",
      "Best objective 1.256817075980e+03, best bound 1.256817075980e+03, gap 0.0000%\n"
     ]
    }
   ],
   "source": [
    "m.optimize()"
   ]
  },
  {
   "cell_type": "code",
   "execution_count": 47,
   "metadata": {},
   "outputs": [
    {
     "name": "stdout",
     "output_type": "stream",
     "text": [
      "Model has 4542 variables and 1445 constraints.\n"
     ]
    }
   ],
   "source": [
    "m.update()  # not strictly necessary, but safe\n",
    "print(f\"Model has {m.NumVars} variables and {m.NumConstrs} constraints.\")\n"
   ]
  },
  {
   "cell_type": "code",
   "execution_count": 48,
   "metadata": {},
   "outputs": [
    {
     "name": "stdout",
     "output_type": "stream",
     "text": [
      "Number of matches: 1394\n"
     ]
    }
   ],
   "source": [
    "if m.Status == GRB.OPTIMAL:\n",
    "    matches = [(s, c) for (s, c) in F if x[s, c].X > 0.5]\n",
    "    print(f\"Number of matches: {len(matches)}\")\n",
    "else:\n",
    "    print(\"Model did not solve to optimality.\")"
   ]
  },
  {
   "cell_type": "code",
   "execution_count": 49,
   "metadata": {},
   "outputs": [
    {
     "name": "stdout",
     "output_type": "stream",
     "text": [
      "Total students matched: 1394 out of 1395\n"
     ]
    }
   ],
   "source": [
    "num_matched = len(set(s for (s, c) in matches))\n",
    "print(f\"Total students matched: {num_matched} out of {len(S)}\")"
   ]
  },
  {
   "cell_type": "code",
   "execution_count": 50,
   "metadata": {},
   "outputs": [
    {
     "name": "stdout",
     "output_type": "stream",
     "text": [
      "Average student utility: 0.902\n"
     ]
    }
   ],
   "source": [
    "total_utility = sum(u[s, c] for (s, c) in matches)\n",
    "avg_utility = total_utility / num_matched if num_matched > 0 else 0\n",
    "print(f\"Average student utility: {avg_utility:.3f}\")\n"
   ]
  },
  {
   "cell_type": "code",
   "execution_count": 51,
   "metadata": {},
   "outputs": [
    {
     "name": "stdout",
     "output_type": "stream",
     "text": [
      "\n",
      "School Capacity Overview:\n",
      "School 11687_401000000133: Used = 7, Original = 26, Added = 0\n",
      "School 8435_401000000133: Used = 14, Original = 30, Added = 0\n",
      "School 8448_401000000133: Used = 12, Original = 15, Added = 0\n",
      "School 24302_401000000131: Used = 8, Original = 22, Added = 0\n",
      "School 8433_401000000131: Used = 19, Original = 50, Added = 0\n",
      "School 8412_401000000133: Used = 60, Original = 60, Added = 0\n",
      "School 8454_401000000222: Used = 80, Original = 80, Added = 0\n",
      "School 24305_401000000332: Used = 38, Original = 33, Added = 5\n",
      "School 8441_401000000133: Used = 29, Original = 60, Added = 0\n",
      "School 24313_401000000131: Used = 31, Original = 31, Added = 0\n",
      "School 8438_401000000133: Used = 35, Original = 48, Added = 0\n",
      "School 8437_401000000133: Used = 11, Original = 28, Added = 0\n",
      "School 8439_401000000132: Used = 30, Original = 30, Added = 0\n",
      "School 8449_401000000133: Used = 6, Original = 30, Added = 0\n",
      "School 24329_401000000122: Used = 33, Original = 35, Added = 0\n",
      "School 8467_401000000133: Used = 0, Original = 3, Added = 0\n",
      "School 11678_401000000132: Used = 35, Original = 35, Added = 0\n",
      "School 8422_401000000112: Used = 23, Original = 38, Added = 0\n",
      "School 24313_401000000132: Used = 31, Original = 31, Added = 0\n",
      "School 16895_401000000131: Used = 19, Original = 35, Added = 0\n",
      "School 8482_401000000133: Used = 0, Original = 4, Added = 0\n",
      "School 8483_401000000132: Used = 25, Original = 35, Added = 0\n",
      "School 24317_401000000133: Used = 32, Original = 32, Added = 0\n",
      "School 24329_401000000121: Used = 30, Original = 30, Added = 0\n",
      "School 24318_401000000132: Used = 50, Original = 50, Added = 0\n",
      "School 8442_401000000133: Used = 70, Original = 70, Added = 0\n",
      "School 8450_401000000133: Used = 6, Original = 10, Added = 0\n",
      "School 8475_401000000132: Used = 34, Original = 35, Added = 0\n",
      "School 8452_401000000131: Used = 9, Original = 10, Added = 0\n",
      "School 24307_401000000232: Used = 64, Original = 64, Added = 0\n",
      "School 24327_401000000133: Used = 50, Original = 50, Added = 0\n",
      "School 8417_401000000133: Used = 4, Original = 13, Added = 0\n",
      "School 8413_401000000133: Used = 25, Original = 25, Added = 0\n",
      "School 8434_401000000133: Used = 28, Original = 35, Added = 0\n",
      "School 8415_401000000133: Used = 19, Original = 25, Added = 0\n",
      "School 8458_401000000132: Used = 70, Original = 70, Added = 0\n",
      "School 8433_401000000132: Used = 12, Original = 50, Added = 0\n",
      "School 24302_401000000132: Used = 7, Original = 22, Added = 0\n",
      "School 24338_401000000132: Used = 15, Original = 15, Added = 0\n",
      "School 8421_401000000133: Used = 60, Original = 60, Added = 0\n",
      "School 8470_401000000133: Used = 2, Original = 11, Added = 0\n",
      "School 8439_401000000131: Used = 30, Original = 30, Added = 0\n",
      "School 8420_401000000131: Used = 0, Original = 4, Added = 0\n",
      "School 11680_401000000133: Used = 121, Original = 26, Added = 95\n",
      "School 24338_401000000131: Used = 15, Original = 15, Added = 0\n",
      "School 8457_401000000111: Used = 35, Original = 35, Added = 0\n",
      "School 8436_401000000133: Used = 31, Original = 35, Added = 0\n",
      "School 8479_401000000133: Used = 5, Original = 15, Added = 0\n",
      "School 24311_401000000232: Used = 24, Original = 24, Added = 0\n"
     ]
    }
   ],
   "source": [
    "capacity_used = {c: sum(1 for (s2, c2) in matches if c2 == c) for c in C}\n",
    "capacity_expanded = {c: int(t[c].X) for c in C}\n",
    "capacity_original = {c: q[c] for c in C}\n",
    "\n",
    "print(\"\\nSchool Capacity Overview:\")\n",
    "for c in C:\n",
    "    print(f\"School {c}: Used = {capacity_used.get(c,0)}, \"\n",
    "          f\"Original = {capacity_original[c]}, \"\n",
    "          f\"Added = {capacity_expanded[c]}\")\n"
   ]
  },
  {
   "cell_type": "code",
   "execution_count": null,
   "metadata": {},
   "outputs": [],
   "source": []
  }
 ],
 "metadata": {
  "colab": {
   "provenance": []
  },
  "kernelspec": {
   "display_name": "Python 3 (ipykernel)",
   "language": "python",
   "name": "python3"
  },
  "language_info": {
   "codemirror_mode": {
    "name": "ipython",
    "version": 3
   },
   "file_extension": ".py",
   "mimetype": "text/x-python",
   "name": "python",
   "nbconvert_exporter": "python",
   "pygments_lexer": "ipython3",
   "version": "3.12.6"
  }
 },
 "nbformat": 4,
 "nbformat_minor": 4
}
